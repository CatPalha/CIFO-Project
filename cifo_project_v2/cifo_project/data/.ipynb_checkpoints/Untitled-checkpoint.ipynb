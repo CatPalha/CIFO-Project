{
 "cells": [
  {
   "cell_type": "code",
   "execution_count": 1,
   "metadata": {},
   "outputs": [],
   "source": [
    "import pandas as pd"
   ]
  },
  {
   "cell_type": "code",
   "execution_count": 3,
   "metadata": {},
   "outputs": [
    {
     "data": {
      "text/html": [
       "<div>\n",
       "<style scoped>\n",
       "    .dataframe tbody tr th:only-of-type {\n",
       "        vertical-align: middle;\n",
       "    }\n",
       "\n",
       "    .dataframe tbody tr th {\n",
       "        vertical-align: top;\n",
       "    }\n",
       "\n",
       "    .dataframe thead th {\n",
       "        text-align: right;\n",
       "    }\n",
       "</style>\n",
       "<table border=\"1\" class=\"dataframe\">\n",
       "  <thead>\n",
       "    <tr style=\"text-align: right;\">\n",
       "      <th></th>\n",
       "      <th>symbol</th>\n",
       "      <th>name</th>\n",
       "      <th>price</th>\n",
       "      <th>exp_return_3m</th>\n",
       "      <th>standard_deviation</th>\n",
       "    </tr>\n",
       "  </thead>\n",
       "  <tbody>\n",
       "    <tr>\n",
       "      <th>0</th>\n",
       "      <td>A</td>\n",
       "      <td>Agilent Technologies</td>\n",
       "      <td>78.52</td>\n",
       "      <td>10.40</td>\n",
       "      <td>3.271580</td>\n",
       "    </tr>\n",
       "    <tr>\n",
       "      <th>1</th>\n",
       "      <td>AAL</td>\n",
       "      <td>American Airlines Gp</td>\n",
       "      <td>28.23</td>\n",
       "      <td>9.29</td>\n",
       "      <td>6.263227</td>\n",
       "    </tr>\n",
       "    <tr>\n",
       "      <th>2</th>\n",
       "      <td>AAP</td>\n",
       "      <td>Advance Auto Parts Inc</td>\n",
       "      <td>161.74</td>\n",
       "      <td>19.47</td>\n",
       "      <td>15.763817</td>\n",
       "    </tr>\n",
       "    <tr>\n",
       "      <th>3</th>\n",
       "      <td>AAPL</td>\n",
       "      <td>Apple Inc</td>\n",
       "      <td>263.19</td>\n",
       "      <td>25.11</td>\n",
       "      <td>17.757908</td>\n",
       "    </tr>\n",
       "    <tr>\n",
       "      <th>4</th>\n",
       "      <td>ABBV</td>\n",
       "      <td>Abbvie Inc</td>\n",
       "      <td>87.20</td>\n",
       "      <td>31.31</td>\n",
       "      <td>26.520827</td>\n",
       "    </tr>\n",
       "    <tr>\n",
       "      <th>...</th>\n",
       "      <td>...</td>\n",
       "      <td>...</td>\n",
       "      <td>...</td>\n",
       "      <td>...</td>\n",
       "      <td>...</td>\n",
       "    </tr>\n",
       "    <tr>\n",
       "      <th>498</th>\n",
       "      <td>XYL</td>\n",
       "      <td>Xylem Inc</td>\n",
       "      <td>77.47</td>\n",
       "      <td>1.88</td>\n",
       "      <td>1.492430</td>\n",
       "    </tr>\n",
       "    <tr>\n",
       "      <th>499</th>\n",
       "      <td>YUM</td>\n",
       "      <td>Yum! Brands</td>\n",
       "      <td>98.12</td>\n",
       "      <td>-15.83</td>\n",
       "      <td>13.273537</td>\n",
       "    </tr>\n",
       "    <tr>\n",
       "      <th>500</th>\n",
       "      <td>ZBH</td>\n",
       "      <td>Zimmer Biomet Holdings</td>\n",
       "      <td>142.57</td>\n",
       "      <td>3.35</td>\n",
       "      <td>3.463266</td>\n",
       "    </tr>\n",
       "    <tr>\n",
       "      <th>501</th>\n",
       "      <td>ZION</td>\n",
       "      <td>Zions Bancorp</td>\n",
       "      <td>48.88</td>\n",
       "      <td>20.76</td>\n",
       "      <td>15.731566</td>\n",
       "    </tr>\n",
       "    <tr>\n",
       "      <th>502</th>\n",
       "      <td>ZTS</td>\n",
       "      <td>Zoetis Inc Cl A</td>\n",
       "      <td>119.56</td>\n",
       "      <td>-5.15</td>\n",
       "      <td>4.165944</td>\n",
       "    </tr>\n",
       "  </tbody>\n",
       "</table>\n",
       "<p>503 rows × 5 columns</p>\n",
       "</div>"
      ],
      "text/plain": [
       "    symbol                    name   price  exp_return_3m  standard_deviation\n",
       "0        A    Agilent Technologies   78.52          10.40            3.271580\n",
       "1      AAL    American Airlines Gp   28.23           9.29            6.263227\n",
       "2      AAP  Advance Auto Parts Inc  161.74          19.47           15.763817\n",
       "3     AAPL               Apple Inc  263.19          25.11           17.757908\n",
       "4     ABBV              Abbvie Inc   87.20          31.31           26.520827\n",
       "..     ...                     ...     ...            ...                 ...\n",
       "498    XYL               Xylem Inc   77.47           1.88            1.492430\n",
       "499    YUM             Yum! Brands   98.12         -15.83           13.273537\n",
       "500    ZBH  Zimmer Biomet Holdings  142.57           3.35            3.463266\n",
       "501   ZION           Zions Bancorp   48.88          20.76           15.731566\n",
       "502    ZTS         Zoetis Inc Cl A  119.56          -5.15            4.165944\n",
       "\n",
       "[503 rows x 5 columns]"
      ]
     },
     "execution_count": 3,
     "metadata": {},
     "output_type": "execute_result"
    }
   ],
   "source": [
    "df = pd.read_excel('sp500.xlsx')\n",
    "df"
   ]
  },
  {
   "cell_type": "code",
   "execution_count": 5,
   "metadata": {},
   "outputs": [
    {
     "data": {
      "text/plain": [
       "503"
      ]
     },
     "execution_count": 5,
     "metadata": {},
     "output_type": "execute_result"
    }
   ],
   "source": [
    "df.shape[0]"
   ]
  },
  {
   "cell_type": "code",
   "execution_count": 6,
   "metadata": {},
   "outputs": [
    {
     "data": {
      "text/plain": [
       "8.73"
      ]
     },
     "execution_count": 6,
     "metadata": {},
     "output_type": "execute_result"
    }
   ],
   "source": [
    "min(df['price'])"
   ]
  },
  {
   "cell_type": "code",
   "execution_count": 7,
   "metadata": {},
   "outputs": [],
   "source": [
    "pip_constraints_example = {\n",
    "    \"Risk-Tolerance\" : 1,\n",
    "    \"Budget\"         : 10000\n",
    "}"
   ]
  },
  {
   "cell_type": "code",
   "execution_count": 9,
   "metadata": {},
   "outputs": [],
   "source": [
    "pip_decision_variables_example = {\n",
    "    \"Symbols\"             : df['symbol'],\n",
    "    \"Assets\"              : df['name'],\n",
    "    \"Prices\"              : df['price'],\n",
    "    \"Expected-Returns\"    : df['exp_return_3m'],\n",
    "    \"Standard-Deviations\" : df['standard_deviation']\n",
    "}"
   ]
  },
  {
   "cell_type": "code",
   "execution_count": 10,
   "metadata": {},
   "outputs": [
    {
     "data": {
      "text/plain": [
       "8.73"
      ]
     },
     "execution_count": 10,
     "metadata": {},
     "output_type": "execute_result"
    }
   ],
   "source": [
    "min(pip_decision_variables_example[\"Prices\"])"
   ]
  },
  {
   "cell_type": "code",
   "execution_count": 17,
   "metadata": {},
   "outputs": [
    {
     "data": {
      "text/plain": [
       "1145.0"
      ]
     },
     "execution_count": 17,
     "metadata": {},
     "output_type": "execute_result"
    }
   ],
   "source": [
    "n_max = (pip_constraints_example[\"Budget\"]+1) // min(pip_decision_variables_example[\"Prices\"])\n",
    "n_max"
   ]
  }
 ],
 "metadata": {
  "kernelspec": {
   "display_name": "Python 3",
   "language": "python",
   "name": "python3"
  },
  "language_info": {
   "codemirror_mode": {
    "name": "ipython",
    "version": 3
   },
   "file_extension": ".py",
   "mimetype": "text/x-python",
   "name": "python",
   "nbconvert_exporter": "python",
   "pygments_lexer": "ipython3",
   "version": "3.7.5"
  }
 },
 "nbformat": 4,
 "nbformat_minor": 2
}
